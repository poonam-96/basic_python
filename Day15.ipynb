{
 "cells": [
  {
   "cell_type": "markdown",
   "metadata": {},
   "source": [
    "# What is a while loop ?"
   ]
  },
  {
   "cell_type": "code",
   "execution_count": 1,
   "metadata": {},
   "outputs": [],
   "source": [
    "# A while loop tests an initial condition. If that condition is True, the loops starts executing\n",
    "# Every time the loop finishes the condition is reevaluated.\n",
    "# As long as the condition remains true,the loop keeps executing\n",
    "# As soon as the condition becomes false the loop stops executing"
   ]
  },
  {
   "cell_type": "code",
   "execution_count": 2,
   "metadata": {},
   "outputs": [],
   "source": [
    "# # Set an initial condition\n",
    "# game_active = True\n",
    "\n",
    "# # Set up the while loop\n",
    "# while game_active:\n",
    "#     # Run the game\n",
    "#     # At some point , the game ends and game_active will be se to False\n",
    "#     # when that happens,the loop will stop executing"
   ]
  },
  {
   "cell_type": "code",
   "execution_count": 3,
   "metadata": {},
   "outputs": [
    {
     "name": "stdout",
     "output_type": "stream",
     "text": [
      "You are still playing,because your power is 5\n",
      "You are still playing,because your power is 4\n",
      "You are still playing,because your power is 3\n",
      "You are still playing,because your power is 2\n",
      "You are still playing,because your power is 1\n",
      "\n",
      "Oh no,your power dropped to 0! Game over\n"
     ]
    }
   ],
   "source": [
    "power = 5\n",
    "\n",
    "# The player is allowed to keep playing as long as their power greater than zero\n",
    "while power > 0:\n",
    "    print(\"You are still playing,because your power is %d\"%power)\n",
    "    \n",
    "    power = power - 1\n",
    "    \n",
    "print(\"\\nOh no,your power dropped to 0! Game over\")"
   ]
  },
  {
   "cell_type": "markdown",
   "metadata": {},
   "source": [
    "# Accepting User input"
   ]
  },
  {
   "cell_type": "code",
   "execution_count": 4,
   "metadata": {},
   "outputs": [
    {
     "name": "stdin",
     "output_type": "stream",
     "text": [
      "Please enter a value: a\n"
     ]
    }
   ],
   "source": [
    "variable = input('Please enter a value:')"
   ]
  },
  {
   "cell_type": "code",
   "execution_count": 5,
   "metadata": {},
   "outputs": [
    {
     "data": {
      "text/plain": [
       "'a'"
      ]
     },
     "execution_count": 5,
     "metadata": {},
     "output_type": "execute_result"
    }
   ],
   "source": [
    "variable"
   ]
  },
  {
   "cell_type": "code",
   "execution_count": 6,
   "metadata": {},
   "outputs": [
    {
     "name": "stdin",
     "output_type": "stream",
     "text": [
      "please tell me someone i should know \n"
     ]
    },
    {
     "name": "stdout",
     "output_type": "stream",
     "text": [
      "['guido', 'tim', 'jessie', '']\n"
     ]
    }
   ],
   "source": [
    "names = ['guido','tim','jessie']\n",
    "new_name = input('please tell me someone i should know')\n",
    "# Add the new name to our list\n",
    "names.append(new_name)\n",
    "print(names)"
   ]
  },
  {
   "cell_type": "code",
   "execution_count": 7,
   "metadata": {},
   "outputs": [
    {
     "name": "stdin",
     "output_type": "stream",
     "text": [
      "Please tell me someone I should know or enter quit sai\n",
      "Please tell me someone I should know or enter quit quit\n"
     ]
    },
    {
     "name": "stdout",
     "output_type": "stream",
     "text": [
      "['sai', 'quit']\n"
     ]
    }
   ],
   "source": [
    "# Start with an empty listr. You can 'seed' the list with\n",
    "# Some predefined values if you like.\n",
    "names = []\n",
    "\n",
    "# Set new_name to something other than quit\n",
    "new_name = ''\n",
    "\n",
    "# Start new_name to something other than 'quit'\n",
    "while new_name != 'quit':\n",
    "    new_name = input(\"Please tell me someone I should know or enter quit\")\n",
    "    \n",
    "    names.append(new_name)\n",
    "    \n",
    "print(names)"
   ]
  },
  {
   "cell_type": "code",
   "execution_count": 8,
   "metadata": {},
   "outputs": [
    {
     "name": "stdin",
     "output_type": "stream",
     "text": [
      "Please tell me someone I should know or enter quit sai\n",
      "Please tell me someone I should know or enter quit quit\n"
     ]
    },
    {
     "name": "stdout",
     "output_type": "stream",
     "text": [
      "['sai']\n"
     ]
    }
   ],
   "source": [
    "# Start with an empty listr. You can 'seed' the list with\n",
    "# Some predefined values if you like.\n",
    "names = []\n",
    "\n",
    "# Set new_name to something other than quit\n",
    "new_name = ''\n",
    "\n",
    "# Start new_name to something other than 'quit'\n",
    "while new_name != 'quit':\n",
    "    new_name = input(\"Please tell me someone I should know or enter quit\")\n",
    "    \n",
    "    if new_name != 'quit':\n",
    "        names.append(new_name)\n",
    "    \n",
    "print(names)"
   ]
  },
  {
   "cell_type": "code",
   "execution_count": 9,
   "metadata": {},
   "outputs": [
    {
     "name": "stdout",
     "output_type": "stream",
     "text": [
      "\n",
      "Welcome to the nature center. What would you like to do?\n",
      "\n",
      "[1] Enter 1 to take a bicycle ride\n",
      "[2] enter 2 to go for a run\n",
      "[3] Enter 3 to climb a mountain\n",
      "[q] Enter q to quit\n"
     ]
    },
    {
     "name": "stdin",
     "output_type": "stream",
     "text": [
      "\n",
      "What would you like to do? 1\n"
     ]
    },
    {
     "name": "stdout",
     "output_type": "stream",
     "text": [
      "\n",
      "Here is a bicycle. Have Fun\n",
      "\n",
      "\n",
      "[1] Enter 1 to take a bicycle ride\n",
      "[2] enter 2 to go for a run\n",
      "[3] Enter 3 to climb a mountain\n",
      "[q] Enter q to quit\n"
     ]
    },
    {
     "name": "stdin",
     "output_type": "stream",
     "text": [
      "\n",
      "What would you like to do? 2\n"
     ]
    },
    {
     "name": "stdout",
     "output_type": "stream",
     "text": [
      "\n",
      "Here are some running shoes\n",
      "\n",
      "\n",
      "[1] Enter 1 to take a bicycle ride\n",
      "[2] enter 2 to go for a run\n",
      "[3] Enter 3 to climb a mountain\n",
      "[q] Enter q to quit\n"
     ]
    },
    {
     "name": "stdin",
     "output_type": "stream",
     "text": [
      "\n",
      "What would you like to do? 3\n"
     ]
    },
    {
     "name": "stdout",
     "output_type": "stream",
     "text": [
      "\n",
      "Here is a map can you leave a trip plan for us\n",
      "\n",
      "\n",
      "[1] Enter 1 to take a bicycle ride\n",
      "[2] enter 2 to go for a run\n",
      "[3] Enter 3 to climb a mountain\n",
      "[q] Enter q to quit\n"
     ]
    },
    {
     "name": "stdin",
     "output_type": "stream",
     "text": [
      "\n",
      "What would you like to do? 4\n"
     ]
    },
    {
     "name": "stdout",
     "output_type": "stream",
     "text": [
      "\n",
      "I dont understand that choice, please try again from the below choices\n",
      "\n",
      "\n",
      "[1] Enter 1 to take a bicycle ride\n",
      "[2] enter 2 to go for a run\n",
      "[3] Enter 3 to climb a mountain\n",
      "[q] Enter q to quit\n"
     ]
    },
    {
     "name": "stdin",
     "output_type": "stream",
     "text": [
      "\n",
      "What would you like to do? 10\n"
     ]
    },
    {
     "name": "stdout",
     "output_type": "stream",
     "text": [
      "\n",
      "I dont understand that choice, please try again from the below choices\n",
      "\n",
      "\n",
      "[1] Enter 1 to take a bicycle ride\n",
      "[2] enter 2 to go for a run\n",
      "[3] Enter 3 to climb a mountain\n",
      "[q] Enter q to quit\n"
     ]
    },
    {
     "name": "stdin",
     "output_type": "stream",
     "text": [
      "\n",
      "What would you like to do? q\n"
     ]
    },
    {
     "name": "stdout",
     "output_type": "stream",
     "text": [
      "\n",
      "Thanks for playing see you later\n",
      "\n",
      "Thanks again,bye for now\n"
     ]
    }
   ],
   "source": [
    "# Give the user some context\n",
    "print(\"\\nWelcome to the nature center. What would you like to do?\")\n",
    "\n",
    "# Set an initial. value for choice other than value for 'quit'\n",
    "choice = ''\n",
    "# Start a loop that runs until the user enters the value for 'quit'\n",
    "while choice != 'q':\n",
    "    # Give all the choices in a series of print statements\n",
    "    print(\"\\n[1] Enter 1 to take a bicycle ride\")\n",
    "    print(\"[2] enter 2 to go for a run\")\n",
    "    print(\"[3] Enter 3 to climb a mountain\")\n",
    "    print(\"[q] Enter q to quit\")\n",
    "    \n",
    "    choice = input(\"\\nWhat would you like to do?\")\n",
    "    \n",
    "    # Respond to the user's choice\n",
    "    if choice == '1':\n",
    "        print(\"\\nHere is a bicycle. Have Fun\\n\")\n",
    "    elif choice == '2':\n",
    "        print(\"\\nHere are some running shoes\\n\")\n",
    "    elif choice == '3':\n",
    "        print(\"\\nHere is a map can you leave a trip plan for us\\n\")\n",
    "    elif choice == 'q':\n",
    "        print(\"\\nThanks for playing see you later\\n\")\n",
    "    else:\n",
    "        print(\"\\nI dont understand that choice, please try again from the below choices\\n\")\n",
    "        \n",
    "print(\"Thanks again,bye for now\")"
   ]
  },
  {
   "cell_type": "code",
   "execution_count": 12,
   "metadata": {},
   "outputs": [
    {
     "name": "stdout",
     "output_type": "stream",
     "text": [
      "Confirming user Ada ... confirmed\n",
      "Confirming user Billy ... confirmed\n",
      "Confirming user Clarence ... confirmed\n",
      "Confirming user Daria ... confirmed\n",
      "\n",
      "Unconfirmed users\n",
      "\n",
      "Confirmed users\n",
      "- Ada\n",
      "- Billy\n",
      "- Clarence\n",
      "- Daria\n"
     ]
    }
   ],
   "source": [
    "unconfirmed_users = ['ada','billy','clarence','daria']\n",
    "confirmed_users  = []\n",
    "\n",
    "while len(unconfirmed_users) > 0:\n",
    "    current_user = unconfirmed_users.pop(0)\n",
    "    print(\"Confirming user %s ... confirmed\"%current_user.title())\n",
    "    \n",
    "    confirmed_users.append(current_user)\n",
    "    \n",
    "    \n",
    "print(\"\\nUnconfirmed users\")\n",
    "for user in unconfirmed_users:\n",
    "    print('- ' + user.title())\n",
    "    \n",
    "print(\"\\nConfirmed users\")\n",
    "for user in confirmed_users:\n",
    "    print('- ' + user.title())"
   ]
  },
  {
   "cell_type": "code",
   "execution_count": 10,
   "metadata": {},
   "outputs": [
    {
     "data": {
      "text/plain": [
       "'ada'"
      ]
     },
     "execution_count": 10,
     "metadata": {},
     "output_type": "execute_result"
    }
   ],
   "source": [
    "unconfirmed_users = ['ada','billy','clarence','daria']\n",
    "unconfirmed_users.pop(0)"
   ]
  },
  {
   "cell_type": "code",
   "execution_count": 11,
   "metadata": {},
   "outputs": [
    {
     "data": {
      "text/plain": [
       "['billy', 'clarence', 'daria']"
      ]
     },
     "execution_count": 11,
     "metadata": {},
     "output_type": "execute_result"
    }
   ],
   "source": [
    "unconfirmed_users"
   ]
  },
  {
   "cell_type": "code",
   "execution_count": null,
   "metadata": {},
   "outputs": [],
   "source": []
  }
 ],
 "metadata": {
  "kernelspec": {
   "display_name": "Python 3",
   "language": "python",
   "name": "python3"
  },
  "language_info": {
   "codemirror_mode": {
    "name": "ipython",
    "version": 3
   },
   "file_extension": ".py",
   "mimetype": "text/x-python",
   "name": "python",
   "nbconvert_exporter": "python",
   "pygments_lexer": "ipython3",
   "version": "3.8.3"
  }
 },
 "nbformat": 4,
 "nbformat_minor": 4
}
