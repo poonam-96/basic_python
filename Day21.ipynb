{
 "cells": [
  {
   "cell_type": "markdown",
   "metadata": {},
   "source": [
    "# Python File Handling:Create,Open,Append,Read,Write"
   ]
  },
  {
   "cell_type": "markdown",
   "metadata": {},
   "source": [
    "## How to open a Textfile"
   ]
  },
  {
   "cell_type": "code",
   "execution_count": null,
   "metadata": {},
   "outputs": [],
   "source": [
    "file_object = open(\"filename\",\"mode\")"
   ]
  },
  {
   "cell_type": "markdown",
   "metadata": {},
   "source": [
    "## How to create a Text File"
   ]
  },
  {
   "cell_type": "code",
   "execution_count": 6,
   "metadata": {},
   "outputs": [],
   "source": [
    "f = open(\"digital.txt\",\"w+\")\n",
    "for i in range(10):\n",
    "    f.write('This is line %d\\n'%(i+1))\n",
    "f.close()"
   ]
  },
  {
   "cell_type": "code",
   "execution_count": 2,
   "metadata": {},
   "outputs": [],
   "source": [
    "# Here, we used \"w\" letter in our argument,which indicates write and will create a file if it does not exsist in library"
   ]
  },
  {
   "cell_type": "code",
   "execution_count": 3,
   "metadata": {},
   "outputs": [],
   "source": [
    "# Plus sign indicates both read and write"
   ]
  },
  {
   "cell_type": "code",
   "execution_count": 7,
   "metadata": {},
   "outputs": [],
   "source": [
    "f = open(\"digital.txt\",\"a+\")\n",
    "for i in range(2):\n",
    "    f.write(\"Appended line %d\\n\"%(i+1))\n",
    "f.close()"
   ]
  },
  {
   "cell_type": "code",
   "execution_count": 8,
   "metadata": {},
   "outputs": [
    {
     "name": "stdout",
     "output_type": "stream",
     "text": [
      "This is line 1\n",
      "This is line 2\n",
      "This is line 3\n",
      "This is line 4\n",
      "This is line 5\n",
      "This is line 6\n",
      "This is line 7\n",
      "This is line 8\n",
      "This is line 9\n",
      "This is line 10\n",
      "Appended line 1\n",
      "Appended line 2\n",
      "\n"
     ]
    }
   ],
   "source": [
    "f = open(\"digital.txt\",\"r\")\n",
    "if f.mode == 'r':\n",
    "    contents = f.read()\n",
    "    print(contents)"
   ]
  },
  {
   "cell_type": "code",
   "execution_count": 9,
   "metadata": {},
   "outputs": [
    {
     "name": "stdout",
     "output_type": "stream",
     "text": [
      "This is line 1\n",
      "\n",
      "This is line 2\n",
      "\n",
      "This is line 3\n",
      "\n",
      "This is line 4\n",
      "\n",
      "This is line 5\n",
      "\n",
      "This is line 6\n",
      "\n",
      "This is line 7\n",
      "\n",
      "This is line 8\n",
      "\n",
      "This is line 9\n",
      "\n",
      "This is line 10\n",
      "\n",
      "Appended line 1\n",
      "\n",
      "Appended line 2\n",
      "\n"
     ]
    }
   ],
   "source": [
    "f = open(\"digital.txt\",\"r\")\n",
    "f1 = f.readlines()\n",
    "for x in f1:\n",
    "    print(x)"
   ]
  },
  {
   "cell_type": "code",
   "execution_count": 10,
   "metadata": {},
   "outputs": [],
   "source": [
    "# 'r' : This is the default mode.It opens file for reading\n",
    "# 'w' : This Mode opens file for writing.If file does not exsist it creates a new file.If file already exsists it \n",
    "# truncates the file\n",
    "# 'a' : Open the file in the append mode.If file does not exsist,it creates a new file\n",
    "# 'x' : Creates new file,If file already exsists the operation fails\n",
    "# '+' : This will open a file for reading and writing(updating)"
   ]
  },
  {
   "cell_type": "code",
   "execution_count": 11,
   "metadata": {},
   "outputs": [],
   "source": [
    "f = open(\"digital_1.txt\",\"a+\")\n",
    "for i in range(2):\n",
    "    f.write(\"Appended line %d\\n\"%(i+1))\n",
    "f.close()"
   ]
  },
  {
   "cell_type": "code",
   "execution_count": 12,
   "metadata": {},
   "outputs": [
    {
     "name": "stdout",
     "output_type": "stream",
     "text": [
      "Appended line 1\n",
      "Appended line 2\n",
      "\n"
     ]
    }
   ],
   "source": [
    "f = open(\"digital_1.txt\",\"r\")\n",
    "if f.mode == 'r':\n",
    "    contents = f.read()\n",
    "    print(contents)"
   ]
  },
  {
   "cell_type": "code",
   "execution_count": 13,
   "metadata": {},
   "outputs": [],
   "source": [
    "f = open(\"digital_2.txt\",\"a\")\n",
    "for i in range(2):\n",
    "    f.write(\"Appended line %d\\n\"%(i+1))\n",
    "f.close()"
   ]
  },
  {
   "cell_type": "code",
   "execution_count": 14,
   "metadata": {},
   "outputs": [
    {
     "name": "stdout",
     "output_type": "stream",
     "text": [
      "Appended line 1\n",
      "Appended line 2\n",
      "\n"
     ]
    }
   ],
   "source": [
    "f = open(\"digital_2.txt\",\"r\")\n",
    "if f.mode == 'r':\n",
    "    contents = f.read()\n",
    "    print(contents)"
   ]
  },
  {
   "cell_type": "code",
   "execution_count": 15,
   "metadata": {},
   "outputs": [
    {
     "name": "stdout",
     "output_type": "stream",
     "text": [
      "Appended line 1\n",
      "Appended line 2\n",
      "Venkat\n",
      "\n"
     ]
    }
   ],
   "source": [
    "f = open(\"digital_1.txt\",\"r\")\n",
    "if f.mode == 'r':\n",
    "    contents = f.read()\n",
    "    print(contents)"
   ]
  },
  {
   "cell_type": "code",
   "execution_count": null,
   "metadata": {},
   "outputs": [],
   "source": []
  }
 ],
 "metadata": {
  "kernelspec": {
   "display_name": "Python 3",
   "language": "python",
   "name": "python3"
  },
  "language_info": {
   "codemirror_mode": {
    "name": "ipython",
    "version": 3
   },
   "file_extension": ".py",
   "mimetype": "text/x-python",
   "name": "python",
   "nbconvert_exporter": "python",
   "pygments_lexer": "ipython3",
   "version": "3.8.3"
  }
 },
 "nbformat": 4,
 "nbformat_minor": 4
}
