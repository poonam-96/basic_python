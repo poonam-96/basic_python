{
 "cells": [
  {
   "cell_type": "markdown",
   "metadata": {},
   "source": [
    "# What is Multiple Inheritance?"
   ]
  },
  {
   "cell_type": "code",
   "execution_count": 1,
   "metadata": {},
   "outputs": [],
   "source": [
    "# When you inherit a child class from more than one base classes,the situation is known as Multiple inheritance"
   ]
  },
  {
   "cell_type": "code",
   "execution_count": 12,
   "metadata": {},
   "outputs": [],
   "source": [
    "# Parent class 1\n",
    "class TeamMember:\n",
    "    def __init__(self,name,uid):\n",
    "        self.name = name\n",
    "        self.uid  = uid\n",
    "        \n",
    "    def print_uid(self):\n",
    "        return self.uid\n",
    "        \n",
    "        \n",
    "# Parent class 2\n",
    "class Worker:\n",
    "    def __init__(self,pay,jobtitle):\n",
    "        self.pay = pay\n",
    "        self.jobtitle = jobtitle\n",
    "        \n",
    "    def job(self):\n",
    "        return print(self.jobtitle)\n",
    "        \n",
    "# Deriving a child class from the two parent classes\n",
    "class TeamLeader(TeamMember,Worker):\n",
    "    def __init__(self,name,uid,pay,jobtitle,exp):\n",
    "        self.exp = exp\n",
    "        TeamMember.__init__(self,name,uid)\n",
    "        Worker.__init__(self,pay,jobtitle)\n",
    "        print(\"Name: {},Pay: {},Exp: {}\".format(self.name,self.pay,self.exp))\n"
   ]
  },
  {
   "cell_type": "code",
   "execution_count": 13,
   "metadata": {},
   "outputs": [
    {
     "name": "stdout",
     "output_type": "stream",
     "text": [
      "Name: Jake,Pay: 250000,Exp: 5\n"
     ]
    }
   ],
   "source": [
    "TL = TeamLeader('Jake',10001,250000,'Scrum master',5)"
   ]
  },
  {
   "cell_type": "code",
   "execution_count": 14,
   "metadata": {},
   "outputs": [
    {
     "data": {
      "text/plain": [
       "10001"
      ]
     },
     "execution_count": 14,
     "metadata": {},
     "output_type": "execute_result"
    }
   ],
   "source": [
    "TL.print_uid()"
   ]
  },
  {
   "cell_type": "code",
   "execution_count": 15,
   "metadata": {},
   "outputs": [
    {
     "name": "stdout",
     "output_type": "stream",
     "text": [
      "Scrum master\n"
     ]
    }
   ],
   "source": [
    "TL.job()"
   ]
  },
  {
   "cell_type": "markdown",
   "metadata": {},
   "source": [
    "# Method Overriding"
   ]
  },
  {
   "cell_type": "code",
   "execution_count": 17,
   "metadata": {},
   "outputs": [],
   "source": [
    "# When you define a parent class method in a child, then this process is called Overriding.\n",
    "# In other words,a child class can override methods of its parent class or superclass by defining a function with the same \n",
    "# name.\n"
   ]
  },
  {
   "cell_type": "code",
   "execution_count": 18,
   "metadata": {},
   "outputs": [],
   "source": [
    "class base:\n",
    "    def base_func(self):\n",
    "        print('Method of base class')\n",
    "        \n",
    "class child(base):\n",
    "    def base_func(self):\n",
    "        print('Method of child class')\n",
    "        \n",
    "class next_child(child):\n",
    "    def base_func(self):\n",
    "        print('Method of next_child class')"
   ]
  },
  {
   "cell_type": "code",
   "execution_count": 19,
   "metadata": {},
   "outputs": [],
   "source": [
    "obj = next_child()"
   ]
  },
  {
   "cell_type": "code",
   "execution_count": 20,
   "metadata": {},
   "outputs": [
    {
     "name": "stdout",
     "output_type": "stream",
     "text": [
      "Method of next_child class\n"
     ]
    }
   ],
   "source": [
    "obj.base_func()"
   ]
  },
  {
   "cell_type": "markdown",
   "metadata": {},
   "source": [
    "# Multi-level Inheritance"
   ]
  },
  {
   "cell_type": "code",
   "execution_count": 21,
   "metadata": {},
   "outputs": [],
   "source": [
    "# When you inherit a class from a derived class, that is called multilevel inheritance"
   ]
  },
  {
   "cell_type": "code",
   "execution_count": 23,
   "metadata": {},
   "outputs": [],
   "source": [
    "class Team:\n",
    "    def show_Team(self):\n",
    "        print(\"This is our Team:\")\n",
    "        \n",
    "\n",
    "# Testing class inherited from Team\n",
    "\n",
    "class Testing(Team):\n",
    "    TestingName = \"\"\n",
    "    \n",
    "    def show_Testing(self):\n",
    "        print(self.TestingName)\n",
    "        \n",
    "# Dev class inherited from Team\n",
    "class Dev(Team):\n",
    "    DevName = \"\"\n",
    "    \n",
    "    def show_Dev(self):\n",
    "        print(self.DevName)\n",
    "        \n",
    "# Sprint class inherited from Testing and Dev classes\n",
    "class Sprint(Testing,Dev):\n",
    "    def show_parent(self):\n",
    "        print(\"Testing :\",self.TestingName)\n",
    "        print(\"Dev :\",self.DevName)"
   ]
  },
  {
   "cell_type": "code",
   "execution_count": 25,
   "metadata": {},
   "outputs": [
    {
     "name": "stdout",
     "output_type": "stream",
     "text": [
      "This is our Team:\n",
      "Testing : James\n",
      "Dev : Barter\n"
     ]
    }
   ],
   "source": [
    "s1 = Sprint()\n",
    "s1.TestingName = \"James\"\n",
    "s1.DevName = \"Barter\"\n",
    "s1.show_Team()\n",
    "s1.show_parent()"
   ]
  },
  {
   "cell_type": "code",
   "execution_count": 26,
   "metadata": {},
   "outputs": [],
   "source": [
    "# Multiple inheritance denotes a scenario when a class derives from more than one base classes\n",
    "# Multilevel inheritance means a class derives from a subclass making that subclass a parent for new class\n",
    "# Multiple inheritance is more complex and hence not used widely\n",
    "# Multilevel inheritance is a more typical case and hence used frequently"
   ]
  },
  {
   "cell_type": "code",
   "execution_count": null,
   "metadata": {},
   "outputs": [],
   "source": []
  }
 ],
 "metadata": {
  "kernelspec": {
   "display_name": "Python 3",
   "language": "python",
   "name": "python3"
  },
  "language_info": {
   "codemirror_mode": {
    "name": "ipython",
    "version": 3
   },
   "file_extension": ".py",
   "mimetype": "text/x-python",
   "name": "python",
   "nbconvert_exporter": "python",
   "pygments_lexer": "ipython3",
   "version": "3.7.6"
  }
 },
 "nbformat": 4,
 "nbformat_minor": 4
}
