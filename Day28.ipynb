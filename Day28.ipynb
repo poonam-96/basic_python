{
 "cells": [
  {
   "cell_type": "markdown",
   "metadata": {},
   "source": [
    "# Abstraction in Python"
   ]
  },
  {
   "cell_type": "code",
   "execution_count": null,
   "metadata": {},
   "outputs": [],
   "source": [
    "# Abstraction in Python is the process of hiding the real implementation of an application from the user and emphasizing\n",
    "# only on usage of it.\n",
    "# For example,consider you have bought a new wlectronic gadget. Along with the gadget you get a user guide ,\n",
    "# Instructing how to the use the application, but the user guide has no info regarging the internal working of the project"
   ]
  },
  {
   "cell_type": "markdown",
   "metadata": {},
   "source": [
    "# Why do we need abstraction?"
   ]
  },
  {
   "cell_type": "code",
   "execution_count": 2,
   "metadata": {},
   "outputs": [],
   "source": [
    "# Through the process of abstraction in Python,a programmer can hide all the irrelevant data/process of an application\n",
    "# in order to reduce complexity and increase efficiency"
   ]
  },
  {
   "cell_type": "markdown",
   "metadata": {},
   "source": [
    "# Abstract Classes in Python"
   ]
  },
  {
   "cell_type": "code",
   "execution_count": 3,
   "metadata": {},
   "outputs": [],
   "source": [
    "# A class containing one or more abstract methods is called abstract class\n",
    "# Abstract methods do not contain any implementation. Instead,all the implementations can be defined in the methods\n",
    "# of sub-classes that inherit abstract class."
   ]
  },
  {
   "cell_type": "code",
   "execution_count": 18,
   "metadata": {},
   "outputs": [],
   "source": [
    "from abc import ABC\n",
    "\n",
    "class Shape(ABC):\n",
    "    def calculate_area(self):\n",
    "        pass\n",
    "    \n",
    "    def shape(self):\n",
    "        print(\"i am a shape\")\n",
    "    \n",
    "class Rectangle(Shape):\n",
    "    length  = 5\n",
    "    breadth = 3\n",
    "    \n",
    "    def calculate_area(self):\n",
    "        return self.length*self.breadth\n",
    "\n",
    "class Circle(Shape):\n",
    "    radius = 4\n",
    "    \n",
    "    def calculate_area(self):\n",
    "        return 3.14*self.radius*self.radius\n",
    "        "
   ]
  },
  {
   "cell_type": "code",
   "execution_count": 19,
   "metadata": {},
   "outputs": [],
   "source": [
    "rec = Rectangle()\n",
    "cir = Circle()\n"
   ]
  },
  {
   "cell_type": "code",
   "execution_count": 20,
   "metadata": {},
   "outputs": [
    {
     "data": {
      "text/plain": [
       "15"
      ]
     },
     "execution_count": 20,
     "metadata": {},
     "output_type": "execute_result"
    }
   ],
   "source": [
    "rec.calculate_area()"
   ]
  },
  {
   "cell_type": "code",
   "execution_count": 21,
   "metadata": {},
   "outputs": [
    {
     "data": {
      "text/plain": [
       "50.24"
      ]
     },
     "execution_count": 21,
     "metadata": {},
     "output_type": "execute_result"
    }
   ],
   "source": [
    "cir.calculate_area()"
   ]
  },
  {
   "cell_type": "code",
   "execution_count": 22,
   "metadata": {},
   "outputs": [
    {
     "name": "stdout",
     "output_type": "stream",
     "text": [
      "i am a shape\n"
     ]
    }
   ],
   "source": [
    "rec.shape()"
   ]
  },
  {
   "cell_type": "code",
   "execution_count": null,
   "metadata": {},
   "outputs": [],
   "source": []
  }
 ],
 "metadata": {
  "kernelspec": {
   "display_name": "Python 3",
   "language": "python",
   "name": "python3"
  },
  "language_info": {
   "codemirror_mode": {
    "name": "ipython",
    "version": 3
   },
   "file_extension": ".py",
   "mimetype": "text/x-python",
   "name": "python",
   "nbconvert_exporter": "python",
   "pygments_lexer": "ipython3",
   "version": "3.7.6"
  }
 },
 "nbformat": 4,
 "nbformat_minor": 4
}
