{
 "cells": [
  {
   "cell_type": "markdown",
   "metadata": {},
   "source": [
    "# Connect To Database"
   ]
  },
  {
   "cell_type": "code",
   "execution_count": 15,
   "metadata": {},
   "outputs": [
    {
     "name": "stdout",
     "output_type": "stream",
     "text": [
      "Opened database successfully\n",
      "Table created successfully\n"
     ]
    }
   ],
   "source": [
    "import sqlite3\n",
    "\n",
    "conn = sqlite3.connect('8am.db')\n",
    "\n",
    "print(\"Opened database successfully\")\n",
    "\n",
    "conn.execute('''CREATE TABLE COMPANY\n",
    "(ID INT PRIMARY KEY NOT NULL,\n",
    "NAME TEXT NOT NULL,\n",
    "AGE INT NOT NULL,\n",
    "ADDRESS CHAR(50),\n",
    "SALARY REAL);''')\n",
    "\n",
    "print(\"Table created successfully\")\n",
    "\n",
    "conn.close()"
   ]
  },
  {
   "cell_type": "code",
   "execution_count": 16,
   "metadata": {},
   "outputs": [
    {
     "name": "stdout",
     "output_type": "stream",
     "text": [
      "Opened database successfully\n",
      "Records created successfully\n"
     ]
    }
   ],
   "source": [
    "conn = sqlite3.connect('8am.db')\n",
    "\n",
    "print(\"Opened database successfully\")\n",
    "\n",
    "conn.execute(\"INSERT INTO COMPANY(ID,NAME,AGE,ADDRESS,SALARY) \\\n",
    "VALUES (1,'Paul',32,'California','200000.00')\")\n",
    "\n",
    "conn.execute(\"INSERT INTO COMPANY(ID,NAME,AGE,ADDRESS,SALARY) \\\n",
    "VALUES (2,'Allen',32,'California','229999.00')\")\n",
    "\n",
    "conn.commit()\n",
    "\n",
    "print(\"Records created successfully\")\n",
    "conn.close()"
   ]
  },
  {
   "cell_type": "code",
   "execution_count": 17,
   "metadata": {},
   "outputs": [
    {
     "name": "stdout",
     "output_type": "stream",
     "text": [
      "Opened database successfully\n",
      "ID =  1\n",
      "Name =  Paul\n",
      "Address =  California\n",
      "Salary =  200000.0 \n",
      "\n",
      "ID =  2\n",
      "Name =  Allen\n",
      "Address =  California\n",
      "Salary =  229999.0 \n",
      "\n",
      "Operation done successfully\n"
     ]
    }
   ],
   "source": [
    "conn = sqlite3.connect('8am.db')\n",
    "\n",
    "print(\"Opened database successfully\")\n",
    "\n",
    "cursor = conn.execute(\"SELECT ID,NAME,ADDRESS,SALARY FROM COMPANY\")\n",
    "\n",
    "for row in cursor:\n",
    "    print(\"ID = \",row[0])\n",
    "    print(\"Name = \",row[1])\n",
    "    print(\"Address = \",row[2])\n",
    "    print(\"Salary = \",row[3], \"\\n\")\n",
    "    \n",
    "print(\"Operation done successfully\")\n",
    "conn.close()"
   ]
  },
  {
   "cell_type": "code",
   "execution_count": 20,
   "metadata": {},
   "outputs": [
    {
     "name": "stdout",
     "output_type": "stream",
     "text": [
      "Opened database successfully\n",
      "Total number of rows updated : 1\n",
      "ID =  1\n",
      "Name =  Paul\n",
      "Address =  California\n",
      "Salary =  233999.0 \n",
      "\n",
      "ID =  2\n",
      "Name =  Allen\n",
      "Address =  California\n",
      "Salary =  229999.0 \n",
      "\n",
      "Operation done successfully\n"
     ]
    }
   ],
   "source": [
    "conn = sqlite3.connect('8am.db')\n",
    "\n",
    "print(\"Opened database successfully\")\n",
    "\n",
    "conn.execute(\"UPDATE COMPANY set SALARY = 233999 where ID = 1\")\n",
    "\n",
    "print(\"Total number of rows updated :\",conn.total_changes)\n",
    "\n",
    "cursor = conn.execute(\"SELECT ID,NAME,ADDRESS,SALARY FROM COMPANY\")\n",
    "for row in cursor:\n",
    "    print(\"ID = \",row[0])\n",
    "    print(\"Name = \",row[1])\n",
    "    print(\"Address = \",row[2])\n",
    "    print(\"Salary = \",row[3], \"\\n\")\n",
    "    \n",
    "print(\"Operation done successfully\")\n",
    "conn.close()"
   ]
  },
  {
   "cell_type": "code",
   "execution_count": null,
   "metadata": {},
   "outputs": [],
   "source": []
  }
 ],
 "metadata": {
  "kernelspec": {
   "display_name": "Python 3",
   "language": "python",
   "name": "python3"
  },
  "language_info": {
   "codemirror_mode": {
    "name": "ipython",
    "version": 3
   },
   "file_extension": ".py",
   "mimetype": "text/x-python",
   "name": "python",
   "nbconvert_exporter": "python",
   "pygments_lexer": "ipython3",
   "version": "3.7.6"
  }
 },
 "nbformat": 4,
 "nbformat_minor": 4
}
